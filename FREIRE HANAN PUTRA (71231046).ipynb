{
 "cells": [
  {
   "cell_type": "code",
   "execution_count": 2,
   "id": "20a1a1b7",
   "metadata": {},
   "outputs": [
    {
     "name": "stdout",
     "output_type": "stream",
     "text": [
      "Masukkan suhu tubuh: 23\n",
      "Anda tidak demam\n"
     ]
    }
   ],
   "source": [
    "#bagian 1\n",
    "\n",
    "try:\n",
    "    suhu = int(input(\"Masukkan suhu tubuh: \"))\n",
    "    if suhu >= 38:\n",
    "        print(\"Anda demam\")\n",
    "    else:\n",
    "        print(\"Anda tidak demam\")\n",
    "except:\n",
    "    print(\"Format inputan anda salah, mohon input bertipe integer(angka)\")"
   ]
  },
  {
   "cell_type": "code",
   "execution_count": 5,
   "id": "b20a9d51",
   "metadata": {},
   "outputs": [
    {
     "name": "stdout",
     "output_type": "stream",
     "text": [
      "Masukkan suatu bilangan: sdf\n",
      "Format inputan anda salah, mohon input bertipe integer(angka)\n"
     ]
    }
   ],
   "source": [
    "#bagian 2\n",
    "\n",
    "try:\n",
    "    bilangan = int(input(\"Masukkan suatu bilangan: \"))\n",
    "    if bilangan > 0:\n",
    "        print(\"Positif\")\n",
    "    elif bilangan < 0:\n",
    "        print(\"Negatif\")\n",
    "    elif bilangan == 0:\n",
    "        print(\"Nol\")\n",
    "except:\n",
    "    print(\"Format inputan anda salah, mohon input bertipe integer(angka)\")"
   ]
  },
  {
   "cell_type": "code",
   "execution_count": 7,
   "id": "a7079711",
   "metadata": {},
   "outputs": [
    {
     "name": "stdout",
     "output_type": "stream",
     "text": [
      "Masukkan bilangan pertama: 12\n",
      "Masukkan bilangan kedua: 32\n",
      "Masukkan bilangan ketiga: 43\n",
      "Terbesar:  43\n"
     ]
    }
   ],
   "source": [
    "# bagian 3\n",
    "try:\n",
    "    a = int(input(\"Masukkan bilangan pertama: \"))\n",
    "    b = int(input(\"Masukkan bilangan kedua: \"))\n",
    "    c = int(input(\"Masukkan bilangan ketiga: \"))\n",
    "    if a > b and a > c:\n",
    "        print(\"Terbesar: \", a)\n",
    "    elif b > a and b > c:\n",
    "        print(\"Terbesar: \", b)\n",
    "    elif c > a and c > b:\n",
    "        print(\"Terbesar: \", c)\n",
    "except:\n",
    "    print(\"Format inputan anda salah, mohon input bertipe integer(angka)\")"
   ]
  },
  {
   "cell_type": "code",
   "execution_count": 9,
   "id": "3cce7236",
   "metadata": {},
   "outputs": [
    {
     "name": "stdout",
     "output_type": "stream",
     "text": [
      "Inputkan suatu bilangan: wq\n",
      "Input anda salah\n"
     ]
    }
   ],
   "source": [
    "try:\n",
    "    angka = int(input(\"Inputkan suatu bilangan: \"))\n",
    "    print(\"Positif\" if angka %2 == 0 else \"negatif\" )\n",
    "except:\n",
    "    print(\"Input anda salah\")"
   ]
  },
  {
   "cell_type": "code",
   "execution_count": 15,
   "id": "2d5b67f4",
   "metadata": {},
   "outputs": [
    {
     "name": "stdout",
     "output_type": "stream",
     "text": [
      "Masukan bulan (1-12) bertipe integer: 13\n",
      "Jumlah bulan harus benar\n"
     ]
    }
   ],
   "source": [
    "try:\n",
    "    bulan = int(input(\"Masukan bulan (1-12) bertipe integer: \"))\n",
    "    if bulan == 1 or bulan == 3 or bulan == 5 or bulan == 7 == bulan == 8 or bulan == 10 or bulan == 12:\n",
    "        print(\"Jumlah Hari 31\")\n",
    "    elif bulan == 4 or bulan == 6 or bulan == 9 or bulan == 11:\n",
    "        print(\"Jumlah Hari 30\")\n",
    "    elif bulan > 12:\n",
    "        print(\"Jumlah bulan harus benar\")\n",
    "    else:\n",
    "        print(\"Jumlah Hari 29\")\n",
    "except:\n",
    "    print(\"Inputan bulan tidak valid\")"
   ]
  },
  {
   "cell_type": "code",
   "execution_count": 17,
   "id": "8038b41c",
   "metadata": {},
   "outputs": [
    {
     "name": "stdout",
     "output_type": "stream",
     "text": [
      "masukan Sisi 1: 423\n",
      "masukan Sisi 2: tiga\n",
      "Input yang anda masukan salah, mohon imputkan integer\n"
     ]
    }
   ],
   "source": [
    "try:\n",
    "    sisi1 = int(input(\"masukan Sisi 1: \"))\n",
    "    sisi2 = int(input(\"masukan Sisi 2: \"))\n",
    "    sisi3 = int(input(\"masukan Sisi 3: \"))\n",
    "\n",
    "    if sisi1 == sisi2 and sisi2 == sisi3 and sisi1 == sisi3:\n",
    "        print(\"3 sisi sama\")\n",
    "    elif sisi1 == sisi2 or sisi2 == sisi3 or sisi1 == sisi3:\n",
    "        print(\"2 sisi sama\")\n",
    "    else:\n",
    "        print(\"Tidak ada yang sama\")\n",
    "except:\n",
    "    print(\"Input yang anda masukan salah, mohon imputkan integer\")\n"
   ]
  },
  {
   "cell_type": "code",
   "execution_count": null,
   "id": "fd7a8d0e",
   "metadata": {},
   "outputs": [],
   "source": []
  }
 ],
 "metadata": {
  "kernelspec": {
   "display_name": "Python 3 (ipykernel)",
   "language": "python",
   "name": "python3"
  },
  "language_info": {
   "codemirror_mode": {
    "name": "ipython",
    "version": 3
   },
   "file_extension": ".py",
   "mimetype": "text/x-python",
   "name": "python",
   "nbconvert_exporter": "python",
   "pygments_lexer": "ipython3",
   "version": "3.11.5"
  }
 },
 "nbformat": 4,
 "nbformat_minor": 5
}
